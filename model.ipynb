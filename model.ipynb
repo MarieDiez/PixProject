{
 "cells": [
  {
   "cell_type": "markdown",
   "metadata": {},
   "source": [
    "# CNN"
   ]
  },
  {
   "cell_type": "code",
   "execution_count": 4,
   "metadata": {},
   "outputs": [],
   "source": [
    "import numpy as np\n",
    "import matplotlib.pyplot as plt\n",
    "import tensorflow as tf\n",
    "from PIL import Image\n",
    "from sklearn.preprocessing import StandardScaler\n",
    "from sklearn.model_selection import train_test_split #pip install sklearn\n",
    "import os"
   ]
  },
  {
   "cell_type": "code",
   "execution_count": 2,
   "metadata": {},
   "outputs": [],
   "source": [
    "(x_trainDep, y_train1), (x_testDep, y_test1) = tf.keras.datasets.mnist.load_data()\n",
    "draw_classNumbers = [0,1,2,3,4,5,6,7,8,9]"
   ]
  },
  {
   "cell_type": "code",
   "execution_count": 3,
   "metadata": {},
   "outputs": [],
   "source": [
    "def keepColor(img):\n",
    "    # 0 = blanc et 1 = noir en binary\n",
    "    data = np.array(img, dtype='uint8' )\n",
    "    image = np.zeros((28,28))\n",
    "    for i in range(0,27):\n",
    "        for j in range(0,27):\n",
    "            if (data[i][j] > 220):\n",
    "                image[i][j] = 255\n",
    "            else :\n",
    "                image[i][j] = 0 \n",
    "    #plt.imshow(image,cmap=\"binary\")\n",
    "    return image\n",
    "# faire un keep color pour reduire info inutile (tracé trop epais)"
   ]
  },
  {
   "cell_type": "code",
   "execution_count": 5,
   "metadata": {},
   "outputs": [],
   "source": [
    "k=0\n",
    "x_train = np.zeros((len(x_trainDep),28,28))\n",
    "x_test = np.zeros((len(x_testDep),28,28))\n",
    "for img in x_trainDep:\n",
    "    x_train[k]=keepColor(img)\n",
    "    k+=1\n",
    "k = 0\n",
    "for img in x_testDep:\n",
    "    x_test[k]=keepColor(img)\n",
    "    k+=1\n",
    "\n",
    "x_train = x_train.reshape((len(x_trainDep),28,28,1))\n",
    "x_test = x_test.reshape((len(x_testDep),28,28,1))"
   ]
  },
  {
   "cell_type": "code",
   "execution_count": 15,
   "metadata": {},
   "outputs": [],
   "source": [
    "dataset_dir = \"../Reconnaissance d image/quick_draw_dataset\" #Dossier\n",
    "files = [name for name in os.listdir(dataset_dir) if \".npy\" in name]\n",
    "max_size_per_cl = 1500\n",
    "draw_classDrawings = []\n",
    "\n",
    "# Evalueate the size of the dataset\n",
    "size = 0\n",
    "for name in files:\n",
    "    draws = np.load(os.path.join(dataset_dir, name))\n",
    "    draws = draws[:max_size_per_cl] # Take only 10 000 draw\n",
    "    size += draws.shape[0]\n",
    "\n",
    "images = np.zeros((size, 28, 28, 1))\n",
    "targets = np.zeros((size,))\n",
    "\n",
    "it = 0\n",
    "t = 0\n",
    "for name in files:\n",
    "    # Open each dataset and add the new class\n",
    "    draw_classDrawings.append(name.replace(\"full_numpy_bitmap_\", \"\").replace(\".npy\", \"\"))\n",
    "    draws = np.load(os.path.join(dataset_dir, name))\n",
    "    draws = draws[:max_size_per_cl] # Take only 10 000 draw\n",
    "    # Add images to the buffer\n",
    "    images[it:it+draws.shape[0]] = np.invert(draws.reshape(-1, 28, 28, 1))\n",
    "    targets[it:it+draws.shape[0]] = t\n",
    "    # Iter\n",
    "    it += draws.shape[0]\n",
    "    t += 1\n",
    "\n",
    "images = images.astype(np.float32)\n",
    "# Shuffle dataset\n",
    "indexes = np.arange(size)\n",
    "np.random.shuffle(indexes)\n",
    "images = images[indexes]\n",
    "targets = targets[indexes]\n",
    "\n",
    "x_trainImgDep, x_testImgDep, y_train1Img, y_test1Img = train_test_split(images, targets, test_size=0.33)"
   ]
  },
  {
   "cell_type": "code",
   "execution_count": 16,
   "metadata": {},
   "outputs": [],
   "source": [
    "def inverseColor(img):\n",
    "    # 0 = blanc et 1 = noir en binary\n",
    "    data = np.array(img, dtype='uint8' )\n",
    "    image = np.zeros((28,28))\n",
    "    for i in range(0,27):\n",
    "        for j in range(0,27):\n",
    "            if (data[i][j] > 120):\n",
    "                image[i][j] = 0\n",
    "            else :\n",
    "                image[i][j] = 255 \n",
    "    #plt.imshow(image,cmap=\"binary\")\n",
    "    return image"
   ]
  },
  {
   "cell_type": "code",
   "execution_count": 17,
   "metadata": {
    "scrolled": true
   },
   "outputs": [],
   "source": [
    "k=0\n",
    "x_trainImg = np.zeros((len(x_trainImgDep),28,28))\n",
    "x_testImg = np.zeros((len(x_testImgDep),28,28))\n",
    "for img in x_trainImgDep:\n",
    "    x_trainImg[k]=inverseColor(img)\n",
    "    k+=1\n",
    "k = 0\n",
    "for img in x_testImgDep:\n",
    "    x_testImg[k]=inverseColor(img)\n",
    "    k+=1\n",
    "\n",
    "x_trainImg = x_trainImg.reshape((len(x_trainImgDep),28,28,1))\n",
    "x_testImg = x_testImg.reshape((len(x_testImgDep),28,28,1))"
   ]
  },
  {
   "cell_type": "code",
   "execution_count": 18,
   "metadata": {},
   "outputs": [
    {
     "data": {
      "text/plain": [
       "<matplotlib.image.AxesImage at 0x7f4a771f2ca0>"
      ]
     },
     "execution_count": 18,
     "metadata": {},
     "output_type": "execute_result"
    },
    {
     "data": {
      "image/png": "[encoded data removed]",
      "text/plain": [
       "<Figure size 432x288 with 1 Axes>"
      ]
     },
     "metadata": {
      "needs_background": "light"
     },
     "output_type": "display_data"
    }
   ],
   "source": [
    "plt.imshow(x_trainImgDep[102].reshape(28,28),cmap=\"binary\")"
   ]
  },
  {
   "cell_type": "code",
   "execution_count": 19,
   "metadata": {},
   "outputs": [
    {
     "data": {
      "text/plain": [
       "<matplotlib.image.AxesImage at 0x7f4a69a69a90>"
      ]
     },
     "execution_count": 19,
     "metadata": {},
     "output_type": "execute_result"
    },
    {
     "data": {
      "image/png": "[encoded data removed]",
      "text/plain": [
       "<Figure size 432x288 with 1 Axes>"
      ]
     },
     "metadata": {
      "needs_background": "light"
     },
     "output_type": "display_data"
    }
   ],
   "source": [
    "plt.imshow(x_trainImg[102].reshape(28,28),cmap=\"binary\")"
   ]
  },
  {
   "cell_type": "code",
   "execution_count": 26,
   "metadata": {},
   "outputs": [],
   "source": [
    "labels = draw_classNumbers + draw_classDrawings"
   ]
  },
  {
   "cell_type": "code",
   "execution_count": 27,
   "metadata": {},
   "outputs": [],
   "source": [
    "#pour mettre a la suite des chiffres\n",
    "for i in range(len(y_train1Img)):\n",
    "    y_train1Img[i] = y_train1Img[i]+10\n",
    "for i in range(len(y_test1Img)):\n",
    "    y_test1Img[i] = y_test1Img[i]+10"
   ]
  },
  {
   "cell_type": "code",
   "execution_count": 28,
   "metadata": {},
   "outputs": [
    {
     "name": "stdout",
     "output_type": "stream",
     "text": [
      "dog\n"
     ]
    }
   ],
   "source": [
    "print(labels[int(y_train1Img[102])])"
   ]
  },
  {
   "cell_type": "code",
   "execution_count": 29,
   "metadata": {},
   "outputs": [],
   "source": [
    "x_train = x_train.reshape(x_train.shape[0], 28, 28, 1)\n",
    "x_test = x_test.reshape(x_test.shape[0], 28, 28, 1)\n",
    "\n",
    "#for /=255\n",
    "x_train = x_train.astype('float32')\n",
    "x_test = x_test.astype('float32')\n",
    "\n",
    "x_trainImg = x_trainImg.astype('float32')\n",
    "x_testImg = x_testImg.astype('float32')\n",
    "\n",
    "x_train/=255\n",
    "x_test/=255\n",
    "x_trainImg/=255\n",
    "x_testImg/=255"
   ]
  },
  {
   "cell_type": "code",
   "execution_count": 31,
   "metadata": {},
   "outputs": [],
   "source": [
    "nbTrain = len(x_train) + len(x_trainImg)\n",
    "imagesTrain = np.zeros((nbTrain,28,28,1))\n",
    "for i in range(len(x_train)):\n",
    "    imagesTrain[i] = x_train[i]\n",
    "k = 0\n",
    "for i in range(len(x_train),nbTrain):\n",
    "    imagesTrain[i] = x_trainImg[k]\n",
    "    k += 1\n",
    "    \n",
    "nbTest = len(x_test) + len(x_testImg)\n",
    "imagesTest = np.zeros((nbTest,28,28,1))\n",
    "for i in range(len(x_test)):\n",
    "    imagesTest[i] = x_test[i]\n",
    "k = 0\n",
    "for i in range(len(x_test),nbTest):\n",
    "    imagesTest[i] = x_testImg[k]\n",
    "    k += 1"
   ]
  },
  {
   "cell_type": "code",
   "execution_count": 32,
   "metadata": {},
   "outputs": [],
   "source": [
    "targetsTrain1 = np.zeros((nbTrain,))\n",
    "for i in range(len(y_train1)):\n",
    "    targetsTrain1[i] = y_train1[i]\n",
    "k = 0\n",
    "for i in range(len(y_train1),nbTrain):\n",
    "    targetsTrain1[i] = y_train1Img[k]\n",
    "    k += 1\n",
    "    \n",
    "targetsTest1 = np.zeros((nbTest,))\n",
    "for i in range(len(y_test1)):\n",
    "    targetsTest1[i] = y_test1[i]\n",
    "k = 0\n",
    "\n",
    "for i in range(len(y_test1),nbTest):\n",
    "    targetsTest1[i] = y_test1Img[k]\n",
    "    k += 1"
   ]
  },
  {
   "cell_type": "code",
   "execution_count": 33,
   "metadata": {},
   "outputs": [],
   "source": [
    "nb_class = 22\n",
    "\n",
    "targetsTrain = tf.keras.utils.to_categorical(targetsTrain1, nb_class)\n",
    "targetsTest = tf.keras.utils.to_categorical(targetsTest1, nb_class)"
   ]
  },
  {
   "cell_type": "code",
   "execution_count": 35,
   "metadata": {},
   "outputs": [],
   "source": [
    "model = tf.keras.Sequential()\n",
    "\n",
    "    \n",
    "model.add(tf.keras.layers.Conv2D(64, 3, input_shape=(28,28,1), activation=\"relu\"))\n",
    "tf.keras.layers.BatchNormalization()\n",
    "model.add(tf.keras.layers.Conv2D(64, 3, input_shape=(28,28,1), activation=\"relu\"))\n",
    "model.add(tf.keras.layers.MaxPooling2D(pool_size=(2,2)))\n",
    "tf.keras.layers.BatchNormalization()\n",
    "\n",
    "model.add(tf.keras.layers.Conv2D(128, 3, input_shape=(28,28,1), activation=\"relu\"))\n",
    "tf.keras.layers.BatchNormalization()\n",
    "model.add(tf.keras.layers.Conv2D(128, 3, input_shape=(28,28,1), activation=\"relu\"))\n",
    "model.add(tf.keras.layers.MaxPooling2D(pool_size=(2,2)))\n",
    "tf.keras.layers.BatchNormalization()\n",
    "\n",
    "model.add(tf.keras.layers.Flatten())\n",
    "\n",
    "model.add(tf.keras.layers.Dense(512, activation=\"relu\"))\n",
    "tf.keras.layers.BatchNormalization()\n",
    "model.add(tf.keras.layers.Dropout(0.2))\n",
    "model.add(tf.keras.layers.Dense(nb_class, activation=\"softmax\"))"
   ]
  },
  {
   "cell_type": "code",
   "execution_count": 36,
   "metadata": {},
   "outputs": [],
   "source": [
    "model.compile( loss='categorical_crossentropy', \n",
    "               optimizer='adam', \n",
    "               metrics=['accuracy'])"
   ]
  },
  {
   "cell_type": "code",
   "execution_count": 37,
   "metadata": {},
   "outputs": [],
   "source": [
    "generalize = tf.keras.preprocessing.image.ImageDataGenerator(rotation_range=8, width_shift_range=0.08, shear_range=0.3,\n",
    "                         height_shift_range=0.08, zoom_range=0.08)\n",
    "test_generalize = tf.keras.preprocessing.image.ImageDataGenerator()\n",
    "\n",
    "train_generator = generalize.flow(imagesTrain, targetsTrain, batch_size=64)\n",
    "test_generator = test_generalize.flow(imagesTest, targetsTest, batch_size=64)"
   ]
  },
  {
   "cell_type": "code",
   "execution_count": 38,
   "metadata": {},
   "outputs": [
    {
     "name": "stdout",
     "output_type": "stream",
     "text": [
      "WARNING:tensorflow:From <ipython-input-38-7511dddfc892>:7: Model.fit_generator (from tensorflow.python.keras.engine.training) is deprecated and will be removed in a future version.\n",
      "Instructions for updating:\n",
      "Please use Model.fit, which supports generators.\n",
      "WARNING:tensorflow:sample_weight modes were coerced from\n",
      "  ...\n",
      "    to  \n",
      "  ['...']\n",
      "WARNING:tensorflow:sample_weight modes were coerced from\n",
      "  ...\n",
      "    to  \n",
      "  ['...']\n",
      "Train for 1125 steps, validate for 249 steps\n",
      "Epoch 1/22\n",
      "1125/1125 [==============================] - 604s 537ms/step - loss: 0.4135 - accuracy: 0.8764 - val_loss: 0.2714 - val_accuracy: 0.9166\n",
      "Epoch 2/22\n",
      "1125/1125 [==============================] - 646s 574ms/step - loss: 0.1905 - accuracy: 0.9426 - val_loss: 0.2125 - val_accuracy: 0.9389\n",
      "Epoch 3/22\n",
      "1125/1125 [==============================] - 630s 560ms/step - loss: 0.1483 - accuracy: 0.9551 - val_loss: 0.1805 - val_accuracy: 0.9492\n",
      "Epoch 4/22\n",
      "1125/1125 [==============================] - 651s 578ms/step - loss: 0.1281 - accuracy: 0.9614 - val_loss: 0.1745 - val_accuracy: 0.9529\n",
      "Epoch 5/22\n",
      "1125/1125 [==============================] - 651s 579ms/step - loss: 0.1159 - accuracy: 0.9646 - val_loss: 0.1619 - val_accuracy: 0.9561\n",
      "Epoch 6/22\n",
      "1125/1125 [==============================] - 590s 525ms/step - loss: 0.1034 - accuracy: 0.9682 - val_loss: 0.1549 - val_accuracy: 0.9571\n",
      "Epoch 7/22\n",
      "1125/1125 [==============================] - 311s 277ms/step - loss: 0.0942 - accuracy: 0.9715 - val_loss: 0.1751 - val_accuracy: 0.9537\n",
      "Epoch 8/22\n",
      "1125/1125 [==============================] - 288s 256ms/step - loss: 0.0877 - accuracy: 0.9732 - val_loss: 0.1674 - val_accuracy: 0.9565\n",
      "Epoch 9/22\n",
      "1125/1125 [==============================] - 273s 243ms/step - loss: 0.0834 - accuracy: 0.9739 - val_loss: 0.1568 - val_accuracy: 0.9598\n",
      "Epoch 10/22\n",
      "1125/1125 [==============================] - 259s 230ms/step - loss: 0.0743 - accuracy: 0.9772 - val_loss: 0.1470 - val_accuracy: 0.9610\n",
      "Epoch 11/22\n",
      "1125/1125 [==============================] - 259s 231ms/step - loss: 0.0711 - accuracy: 0.9776 - val_loss: 0.1683 - val_accuracy: 0.9578\n",
      "Epoch 12/22\n",
      "1125/1125 [==============================] - 261s 232ms/step - loss: 0.0682 - accuracy: 0.9788 - val_loss: 0.1690 - val_accuracy: 0.9559\n",
      "Epoch 13/22\n",
      "1125/1125 [==============================] - 266s 237ms/step - loss: 0.0642 - accuracy: 0.9799 - val_loss: 0.1507 - val_accuracy: 0.9613\n",
      "Epoch 14/22\n",
      "1125/1125 [==============================] - 270s 240ms/step - loss: 0.0586 - accuracy: 0.9811 - val_loss: 0.1582 - val_accuracy: 0.9613\n",
      "Epoch 15/22\n",
      "1125/1125 [==============================] - 262s 233ms/step - loss: 0.0593 - accuracy: 0.9816 - val_loss: 0.1549 - val_accuracy: 0.9623\n",
      "Epoch 16/22\n",
      "1125/1125 [==============================] - 284s 252ms/step - loss: 0.0555 - accuracy: 0.9825 - val_loss: 0.1647 - val_accuracy: 0.9606\n",
      "Epoch 17/22\n",
      "1125/1125 [==============================] - 282s 250ms/step - loss: 0.0521 - accuracy: 0.9835 - val_loss: 0.1960 - val_accuracy: 0.9567\n",
      "Epoch 18/22\n",
      "1125/1125 [==============================] - 262s 233ms/step - loss: 0.0522 - accuracy: 0.9834 - val_loss: 0.1761 - val_accuracy: 0.9596\n",
      "Epoch 19/22\n",
      "1125/1125 [==============================] - 254s 226ms/step - loss: 0.0482 - accuracy: 0.9849 - val_loss: 0.1768 - val_accuracy: 0.9588\n",
      "Epoch 20/22\n",
      "1125/1125 [==============================] - 261s 232ms/step - loss: 0.0468 - accuracy: 0.9856 - val_loss: 0.1716 - val_accuracy: 0.9590\n",
      "Epoch 21/22\n",
      "1125/1125 [==============================] - 253s 225ms/step - loss: 0.0434 - accuracy: 0.9861 - val_loss: 0.1788 - val_accuracy: 0.9623\n",
      "Epoch 22/22\n",
      "1125/1125 [==============================] - 253s 225ms/step - loss: 0.0461 - accuracy: 0.9852 - val_loss: 0.1705 - val_accuracy: 0.9594\n"
     ]
    },
    {
     "data": {
      "text/plain": [
       "<tensorflow.python.keras.callbacks.History at 0x7f4a804f7400>"
      ]
     },
     "execution_count": 38,
     "metadata": {},
     "output_type": "execute_result"
    }
   ],
   "source": [
    "nbTrain = imagesTrain.shape[0]\n",
    "nbTest = imagesTest.shape[0]\n",
    "# nb de batch => 60000//64 (64 img par batch) => 937\n",
    "# une epoch => 937 * 1 batch (parcour toutes les images et apprends 64 par 64)\n",
    "# fait 20 ces epochs, entre le model a appris et les erreurs se reduisent \n",
    "\n",
    "model.fit_generator(train_generator, steps_per_epoch=nbTrain//64, epochs=22, \n",
    "                    validation_data=test_generator, validation_steps=nbTest//64)"
   ]
  },
  {
   "cell_type": "code",
   "execution_count": 39,
   "metadata": {
    "scrolled": true
   },
   "outputs": [
    {
     "name": "stdout",
     "output_type": "stream",
     "text": [
      "WARNING:tensorflow:AutoGraph could not transform <function canonicalize_signatures.<locals>.signature_wrapper at 0x7f4a699a5550> and will run it as-is.\n",
      "Please report this to the TensorFlow team. When filing the bug, set the verbosity to 10 (on Linux, `export AUTOGRAPH_VERBOSITY=10`) and attach the full output.\n",
      "Cause: Bad argument number for keyword: 1, expecting 2\n",
      "WARNING: AutoGraph could not transform <function canonicalize_signatures.<locals>.signature_wrapper at 0x7f4a699a5550> and will run it as-is.\n",
      "Please report this to the TensorFlow team. When filing the bug, set the verbosity to 10 (on Linux, `export AUTOGRAPH_VERBOSITY=10`) and attach the full output.\n",
      "Cause: Bad argument number for keyword: 1, expecting 2\n",
      "WARNING:tensorflow:From /usr/lib/python3.8/site-packages/tensorflow_core/python/ops/resource_variable_ops.py:1782: calling BaseResourceVariable.__init__ (from tensorflow.python.ops.resource_variable_ops) with constraint is deprecated and will be removed in a future version.\n",
      "Instructions for updating:\n",
      "If using Keras pass *_constraint arguments to layers.\n",
      "INFO:tensorflow:Assets written to: model/assets\n"
     ]
    }
   ],
   "source": [
    "model.save(\"model\")"
   ]
  },
  {
   "cell_type": "code",
   "execution_count": 100,
   "metadata": {},
   "outputs": [],
   "source": [
    "model = tf.keras.models.load_model(\"model\")"
   ]
  },
  {
   "cell_type": "markdown",
   "metadata": {},
   "source": [
    "#### test"
   ]
  },
  {
   "cell_type": "code",
   "execution_count": 101,
   "metadata": {},
   "outputs": [],
   "source": [
    "def openImageKeepColor(filename):\n",
    "    img = Image.open( filename + '.jpg' )\n",
    "    data = np.array(img, dtype='uint8' )\n",
    "    image = np.zeros((28,28))\n",
    "    for i in range(0,27):\n",
    "        for j in range(0,27):\n",
    "            image[i][j] = data[i][j][0]\n",
    "    #plt.imshow(image,cmap=\"binary\")\n",
    "    return image\n",
    "\n",
    "def openImageInverseColor(filename):\n",
    "    # 0 = blanc et 1 = noir en binary\n",
    "    img = Image.open(filename + '.jpg')\n",
    "    data = np.array(img, dtype='uint8')\n",
    "    image = np.zeros((28, 28))\n",
    "    for i in range(0, 27):\n",
    "        for j in range(0, 27):\n",
    "            if (data[i][j][0] > 120):\n",
    "                image[i][j] = 0\n",
    "            else:\n",
    "                image[i][j] = 255\n",
    "    return image"
   ]
  },
  {
   "cell_type": "code",
   "execution_count": 102,
   "metadata": {},
   "outputs": [],
   "source": [
    "mesImages = [\"../Cours Tensorflow/zero\",\"../Cours Tensorflow/un\",\"../Cours Tensorflow/deux\",\"../Cours Tensorflow/trois\",\"../Cours Tensorflow/quatre\",\"../Cours Tensorflow/cinq\",\"../Cours Tensorflow/six\",\"../Cours Tensorflow/sept\",\"../Cours Tensorflow/huit\",\"../Cours Tensorflow/neuf\",\"../Reconnaissance d image/dog\",\"../Reconnaissance d image/chair\",\"../Reconnaissance d image/eye\",\"../Reconnaissance d image/face\",\"monDessin\",\"../Reconnaissance d image/tourEiffel2\",\"../Reconnaissance d image/eye2\",\"../Reconnaissance d image/face2\",\"../Reconnaissance d image/face3\"]\n",
    "images = np.zeros((20,28,28))\n",
    "\n",
    "for i in range(0,10):\n",
    "    image = openImageInverseColor(mesImages[i])\n",
    "    images[i] = image\n",
    "    images[i] /= 255\n",
    "for i in range(10,19):\n",
    "    image = openImageInverseColor(mesImages[i])\n",
    "    images[i] = image\n",
    "    images[i] /= 255\n",
    "images = images.reshape(-1, 28, 28, 1)"
   ]
  },
  {
   "cell_type": "code",
   "execution_count": 103,
   "metadata": {},
   "outputs": [
    {
     "name": "stdout",
     "output_type": "stream",
     "text": [
      "[0, 1, 2, 3, 4, 5, 6, 7, 8, 9, 'airplane', 'apple', 'book', 'brain', 'car', 'chair', 'dog', 'eye', 'face', 'guitar', 'rabbit', 'The Eiffel Tower']\n"
     ]
    }
   ],
   "source": [
    "labelsTest = [0,1,2,3,4,5,6,7,8,9,\"dog\",\"chair\",\"eye\",\"face\",\"rabbit\",\"The Eiffel Tower\",\"eye\",\"face\",\"face\"]\n",
    "print(labels)"
   ]
  },
  {
   "cell_type": "code",
   "execution_count": 104,
   "metadata": {
    "scrolled": false
   },
   "outputs": [
    {
     "name": "stdout",
     "output_type": "stream",
     "text": [
      "rabbit dog\n",
      "loss :  5.0 %\n",
      "[10]\n"
     ]
    }
   ],
   "source": [
    "predictions = model.predict(images)\n",
    "loss = list()\n",
    "lossTaux = 0\n",
    "for i in range(19):\n",
    "    if (labels[np.argmax(predictions[i])] != labelsTest[i]):\n",
    "        loss.append(i)\n",
    "        print(labels[np.argmax(predictions[i])],labelsTest[i])\n",
    "        lossTaux+=1\n",
    "print(\"loss : \",(lossTaux/20)*100,\"%\")\n",
    "print(loss)"
   ]
  },
  {
   "cell_type": "code",
   "execution_count": 105,
   "metadata": {},
   "outputs": [],
   "source": [
    "monImage = np.zeros((1,28,28))\n",
    "\n",
    "img = openImageInverseColor(\"../Reconnaissance d image/dog\")\n",
    "img /=255\n",
    "img = img.reshape(-1, 28, 28, 1)"
   ]
  },
  {
   "cell_type": "code",
   "execution_count": 106,
   "metadata": {
    "scrolled": false
   },
   "outputs": [
    {
     "name": "stdout",
     "output_type": "stream",
     "text": [
      "20\n",
      "rabbit\n"
     ]
    }
   ],
   "source": [
    "prediction = model.predict(img)\n",
    "print(np.argmax(prediction))\n",
    "print(labels[np.argmax(prediction)])"
   ]
  },
  {
   "cell_type": "code",
   "execution_count": 107,
   "metadata": {},
   "outputs": [
    {
     "data": {
      "text/plain": [
       "<matplotlib.image.AxesImage at 0x7f4a73d24fd0>"
      ]
     },
     "execution_count": 107,
     "metadata": {},
     "output_type": "execute_result"
    },
    {
     "data": {
      "image/png": "[encoded data removed]",
      "text/plain": [
       "<Figure size 432x288 with 1 Axes>"
      ]
     },
     "metadata": {
      "needs_background": "light"
     },
     "output_type": "display_data"
    }
   ],
   "source": [
    "plt.imshow(img.reshape(28,28),cmap=\"binary\")"
   ]
  }
 ],
 "metadata": {
  "kernelspec": {
   "display_name": "Python 3",
   "language": "python",
   "name": "python3"
  },
  "language_info": {
   "codemirror_mode": {
    "name": "ipython",
    "version": 3
   },
   "file_extension": ".py",
   "mimetype": "text/x-python",
   "name": "python",
   "nbconvert_exporter": "python",
   "pygments_lexer": "ipython3",
   "version": "3.8.1"
  }
 },
 "nbformat": 4,
 "nbformat_minor": 2
}
